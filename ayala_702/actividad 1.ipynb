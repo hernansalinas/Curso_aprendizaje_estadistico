{
  "nbformat": 4,
  "nbformat_minor": 0,
  "metadata": {
    "colab": {
      "provenance": []
    },
    "kernelspec": {
      "name": "python3",
      "display_name": "Python 3"
    },
    "language_info": {
      "name": "python"
    }
  },
  "cells": [
    {
      "cell_type": "markdown",
      "source": [
        "$\\text{Lucas(n)} = L_n = 1+2+\\cdots+(L_{i-2}+L_{i-1}) + \\cdots (L_{n-2} + L_{n-1})$"
      ],
      "metadata": {
        "id": "xY7_WDD2y4NO"
      }
    },
    {
      "cell_type": "code",
      "source": [],
      "metadata": {
        "id": "GEhN1xxq36az"
      },
      "execution_count": null,
      "outputs": []
    },
    {
      "cell_type": "code",
      "execution_count": null,
      "metadata": {
        "id": "9502rKLXyx59"
      },
      "outputs": [],
      "source": [
        "def lucas(n):\n",
        "  if n==1:\n",
        "    return 1\n",
        "  elif n==2:\n",
        "    return 2\n",
        "  else:\n",
        "    return lucas(n-2)+lucas(n-1)\n",
        "\n"
      ]
    },
    {
      "cell_type": "code",
      "source": [
        "n=int(input(\"ingrese un numero: \"))\n",
        "print(lucas(n))"
      ],
      "metadata": {
        "colab": {
          "base_uri": "https://localhost:8080/"
        },
        "id": "8d0NqTnN2ccl",
        "outputId": "a6a2aa5b-0808-4b7f-84e7-24d2d3c2f75e"
      },
      "execution_count": null,
      "outputs": [
        {
          "output_type": "stream",
          "name": "stdout",
          "text": [
            "ingrese un numero: 4\n",
            "5\n"
          ]
        }
      ]
    },
    {
      "cell_type": "code",
      "source": [
        "for i in range(1,n+1):\n",
        "  print(f\"posicion:{i} es {lucas(i)}\")"
      ],
      "metadata": {
        "colab": {
          "base_uri": "https://localhost:8080/"
        },
        "id": "rJZmJ4SI3DPJ",
        "outputId": "97d047ef-4499-4444-d4fd-3c01b50f9910"
      },
      "execution_count": null,
      "outputs": [
        {
          "output_type": "stream",
          "name": "stdout",
          "text": [
            "posicion:1 es 1\n",
            "posicion:2 es 2\n",
            "posicion:3 es 3\n",
            "posicion:4 es 5\n"
          ]
        }
      ]
    },
    {
      "cell_type": "code",
      "source": [],
      "metadata": {
        "id": "1Vk_2eWX3NXi"
      },
      "execution_count": null,
      "outputs": []
    },
    {
      "cell_type": "code",
      "source": [
        "#punto 5:\n"
      ],
      "metadata": {
        "id": "AEu8iD4V38Oy"
      },
      "execution_count": null,
      "outputs": []
    },
    {
      "cell_type": "markdown",
      "source": [
        "$$\\text{Binomial(n, k)} = \\binom nk = \\frac{n!}{k!(n-k)!}$$\n"
      ],
      "metadata": {
        "id": "JkEOJaAM4_YJ"
      }
    },
    {
      "cell_type": "code",
      "source": [
        "from math import factorial"
      ],
      "metadata": {
        "id": "Y2CUR16C7tHT"
      },
      "execution_count": null,
      "outputs": []
    },
    {
      "cell_type": "code",
      "source": [
        "def binomial(n,k):\n",
        "  if k > n:\n",
        "    print(\"error, k tiene que ser menor que n\")\n",
        "  else:\n",
        "    return factorial(n) / (factorial(k) * factorial(n-k))"
      ],
      "metadata": {
        "id": "HMp3B8_65EwC"
      },
      "execution_count": null,
      "outputs": []
    },
    {
      "cell_type": "markdown",
      "source": [],
      "metadata": {
        "id": "ZkFAKsFk8FI7"
      }
    },
    {
      "cell_type": "code",
      "source": [
        "print(\"n debe ser mayor que k\")\n",
        "n=int(input(\"ingrese un numero n:\"))\n",
        "k=int(input(\"ingrese un numero k:\"))\n",
        "resultado=binomial(n,k)\n",
        "print(\"Binomial\", \"(\",n,\",\", k,\")\",  resultado)"
      ],
      "metadata": {
        "colab": {
          "base_uri": "https://localhost:8080/"
        },
        "id": "7S5TYT2a6L-b",
        "outputId": "63727989-da32-4144-87ed-18752b39cf99"
      },
      "execution_count": null,
      "outputs": [
        {
          "output_type": "stream",
          "name": "stdout",
          "text": [
            "n debe ser mayor que k\n",
            "ingrese un numero n:4\n",
            "ingrese un numero k:3\n",
            "Binomial ( 4 , 3 ) 4.0\n"
          ]
        }
      ]
    },
    {
      "cell_type": "code",
      "source": [
        "binomial(14,2)"
      ],
      "metadata": {
        "colab": {
          "base_uri": "https://localhost:8080/"
        },
        "id": "DpaP-vuY6Sb8",
        "outputId": "f1128ea0-a1dd-406a-c803-d3b46bf9f973"
      },
      "execution_count": null,
      "outputs": [
        {
          "output_type": "execute_result",
          "data": {
            "text/plain": [
              "91.0"
            ]
          },
          "metadata": {},
          "execution_count": 19
        }
      ]
    },
    {
      "cell_type": "code",
      "source": [],
      "metadata": {
        "id": "iunYxgqh7JLb"
      },
      "execution_count": null,
      "outputs": []
    }
  ]
}