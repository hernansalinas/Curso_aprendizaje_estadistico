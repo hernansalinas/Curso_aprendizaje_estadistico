{
 "cells": [
  {
   "cell_type": "code",
   "execution_count": 1,
   "id": "0efb1e69",
   "metadata": {},
   "outputs": [
    {
     "data": {
      "text/plain": [
       "[2, 4, 'hola mundo', 15, 1565, 1324]"
      ]
     },
     "execution_count": 1,
     "metadata": {},
     "output_type": "execute_result"
    }
   ],
   "source": [
    "#lista, forma de acceder a los elementos de una lista\n",
    "L=[90,1234,2,3,4,5,\"hola mundo\",51,15,551,1565,1234,1324,343]\n",
    "L[2: :2]"
   ]
  },
  {
   "cell_type": "code",
   "execution_count": 4,
   "id": "73b5b6e7",
   "metadata": {},
   "outputs": [],
   "source": [
    "#segunda forma de acceder a los elementos de una lista\n",
    "L=[90,1234,2,3,4,5,\"hola mundo\",51,15,551,1565,1234,1324,343]\n",
    "def recorrido_lista(ini, fin, step, L):\n",
    "    for i in range(ini, fin, step):\n",
    "        print(L[i])\n",
    "    return True \n",
    "    recorrido_lista"
   ]
  },
  {
   "cell_type": "code",
   "execution_count": null,
   "id": "c2f8a63b",
   "metadata": {},
   "outputs": [],
   "source": [
    "#append,permite agregar elementos a una lista"
   ]
  },
  {
   "cell_type": "code",
   "execution_count": 5,
   "id": "afcae4b5",
   "metadata": {},
   "outputs": [],
   "source": [
    "L.append(\"hola\")"
   ]
  },
  {
   "cell_type": "code",
   "execution_count": 6,
   "id": "00f1c5bc",
   "metadata": {},
   "outputs": [
    {
     "data": {
      "text/plain": [
       "'hola'"
      ]
     },
     "execution_count": 6,
     "metadata": {},
     "output_type": "execute_result"
    }
   ],
   "source": [
    "L.pop(-1) #eliminar elementos de una lista"
   ]
  },
  {
   "cell_type": "code",
   "execution_count": 7,
   "id": "5e64b7af",
   "metadata": {},
   "outputs": [],
   "source": [
    "#insertar elementos de una lista en (la posicion,lo que yo quiero)\n",
    "L.insert(7,\"hola\")"
   ]
  },
  {
   "cell_type": "code",
   "execution_count": 13,
   "id": "79e89905",
   "metadata": {},
   "outputs": [
    {
     "data": {
      "text/plain": [
       "[90,\n",
       " 'j',\n",
       " 'j',\n",
       " 1234,\n",
       " 2,\n",
       " 3,\n",
       " 4,\n",
       " 5,\n",
       " 'hola mundo',\n",
       " 'hola',\n",
       " 51,\n",
       " 15,\n",
       " 551,\n",
       " 1565,\n",
       " 1234,\n",
       " 1324,\n",
       " 343]"
      ]
     },
     "execution_count": 13,
     "metadata": {},
     "output_type": "execute_result"
    }
   ],
   "source": [
    "L.insert(1,\"j\")\n",
    "L"
   ]
  },
  {
   "cell_type": "code",
   "execution_count": 14,
   "id": "c12ae55f",
   "metadata": {},
   "outputs": [
    {
     "data": {
      "text/plain": [
       "[3, 4, 'h', 'w']"
      ]
     },
     "execution_count": 14,
     "metadata": {},
     "output_type": "execute_result"
    }
   ],
   "source": [
    "v=[3,4,\"w\"]\n",
    "v.insert(2,\"h\")\n",
    "v"
   ]
  },
  {
   "cell_type": "code",
   "execution_count": 12,
   "id": "e77d6a68",
   "metadata": {},
   "outputs": [
    {
     "name": "stdout",
     "output_type": "stream",
     "text": [
      "0 3\n",
      "1 4\n",
      "2 h\n",
      "3 w\n"
     ]
    }
   ],
   "source": [
    "#hace el recorrido de la lista y muestra la posicion de los elementos\n",
    "\n",
    "for i, elemento in enumerate(v):\n",
    "    print(i,elemento)"
   ]
  },
  {
   "cell_type": "code",
   "execution_count": 16,
   "id": "39bcf227",
   "metadata": {},
   "outputs": [
    {
     "name": "stdout",
     "output_type": "stream",
     "text": [
      "3\n",
      "4\n",
      "h\n",
      "w\n"
     ]
    }
   ],
   "source": [
    "#segunda forma de recorrer una lista\n",
    "for i in v:\n",
    "    print(i)"
   ]
  },
  {
   "cell_type": "code",
   "execution_count": 17,
   "id": "49dbe9e2",
   "metadata": {},
   "outputs": [
    {
     "name": "stdout",
     "output_type": "stream",
     "text": [
      "banano\n",
      "sandia\n",
      "uvas\n"
     ]
    }
   ],
   "source": [
    "#sea a una lista vacia\n",
    "a=[]\n",
    "frutas=[\"banano\",\"pera\",\"sandia\",\"manzana\",\"uvas\"]\n",
    "#quiero agregar algunos elementos a la lista\n",
    "for i in range(0, len(frutas),2):\n",
    "    print(frutas[i])\n",
    "    a.append(frutas[i])"
   ]
  },
  {
   "cell_type": "code",
   "execution_count": 24,
   "id": "c2629977",
   "metadata": {},
   "outputs": [
    {
     "name": "stdout",
     "output_type": "stream",
     "text": [
      "ingrese un numero45\n"
     ]
    },
    {
     "ename": "SyntaxError",
     "evalue": "can't use starred expression here (3254456168.py, line 9)",
     "output_type": "error",
     "traceback": [
      "\u001b[0;36m  Input \u001b[0;32mIn [24]\u001b[0;36m\u001b[0m\n\u001b[0;31m    i=*m\u001b[0m\n\u001b[0m      ^\u001b[0m\n\u001b[0;31mSyntaxError\u001b[0m\u001b[0;31m:\u001b[0m can't use starred expression here\n"
     ]
    }
   ],
   "source": [
    "#entrado un numero la funcion debe retornar un doble factorial\n",
    "m=int(input(\"ingrese un numero\"))\n",
    "def doble_factorial(n):\n",
    "    m=int(input(\"ingrese un numero\"))\n",
    "    l=[]\n",
    "    i=1\n",
    "    if i <= m:\n",
    "        l.append\n",
    "        i=*m\n",
    "    return resultado"
   ]
  },
  {
   "cell_type": "code",
   "execution_count": 52,
   "id": "2ab54fe2",
   "metadata": {},
   "outputs": [
    {
     "name": "stdout",
     "output_type": "stream",
     "text": [
      "ingrese un numero 10\n",
      "el doble factorial de 10 es 3840\n"
     ]
    }
   ],
   "source": [
    "\n",
    "n=int(input(\"ingrese un numero \"))\n",
    "def doble_factorial(n):\n",
    "    s=n\n",
    "    while(n>2):\n",
    "        n= n-2\n",
    "        s=s*n\n",
    "        \n",
    "    return s\n",
    "\n",
    "\n",
    "result=doble_factorial(n)\n",
    "print(\"el doble factorial de\",n ,\"es\", result)\n",
    "        "
   ]
  },
  {
   "cell_type": "code",
   "execution_count": 51,
   "id": "42cbf757",
   "metadata": {},
   "outputs": [
    {
     "name": "stdout",
     "output_type": "stream",
     "text": [
      "/home/usuario/valentina/metodos_computacionales\r\n"
     ]
    }
   ],
   "source": [
    "!pwd"
   ]
  },
  {
   "cell_type": "code",
   "execution_count": null,
   "id": "0164829f",
   "metadata": {},
   "outputs": [],
   "source": [
    "#sucesion de lucas\n",
    "\n",
    "\n"
   ]
  },
  {
   "cell_type": "code",
   "execution_count": null,
   "id": "cc64a846",
   "metadata": {},
   "outputs": [],
   "source": []
  },
  {
   "cell_type": "code",
   "execution_count": null,
   "id": "c9ffdf1b",
   "metadata": {},
   "outputs": [],
   "source": []
  }
 ],
 "metadata": {
  "kernelspec": {
   "display_name": "Python 3 (ipykernel)",
   "language": "python",
   "name": "python3"
  },
  "language_info": {
   "codemirror_mode": {
    "name": "ipython",
    "version": 3
   },
   "file_extension": ".py",
   "mimetype": "text/x-python",
   "name": "python",
   "nbconvert_exporter": "python",
   "pygments_lexer": "ipython3",
   "version": "3.9.12"
  }
 },
 "nbformat": 4,
 "nbformat_minor": 5
}
